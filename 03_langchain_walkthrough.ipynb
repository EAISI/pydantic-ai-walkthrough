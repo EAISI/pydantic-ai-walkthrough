{
 "cells": [
  {
   "cell_type": "markdown",
   "metadata": {},
   "source": [
    "# Langchain Walkthrough\n",
    "\n",
    "Inspired by: https://langchain-ai.github.io/langgraph/agents/agents/"
   ]
  },
  {
   "cell_type": "markdown",
   "metadata": {},
   "source": [
    "Setup the environment"
   ]
  },
  {
   "cell_type": "code",
   "execution_count": 10,
   "metadata": {},
   "outputs": [
    {
     "data": {
      "text/plain": [
       "<function logfire._internal.instrument.instrument.<locals>.decorator(func: 'Callable[P, R]') -> 'Callable[P, R]'>"
      ]
     },
     "execution_count": 10,
     "metadata": {},
     "output_type": "execute_result"
    }
   ],
   "source": [
    "import dotenv\n",
    "import os\n",
    "import logfire\n",
    "import json\n",
    "\n",
    "import tool_functions as tf\n",
    "\n",
    "import nest_asyncio\n",
    "\n",
    "nest_asyncio.apply()\n",
    "\n",
    "dotenv.load_dotenv()\n",
    "\n",
    "api_key = os.getenv(\"ANTHROPIC_API_KEY\")\n",
    "model = os.getenv(\"DEFAULT_MODEL\")\n",
    "logfire_token = os.getenv(\"LOGFIRE_TOKEN\")\n",
    "\n",
    "\n",
    "# configure logfire\n",
    "logfire.configure(token=logfire_token)\n",
    "\n",
    "# 2. Instrumenteer LangChain (automatisch loggen van chains, LLM calls, tools, etc.)\n",
    "logfire.instrument()"
   ]
  },
  {
   "cell_type": "markdown",
   "metadata": {},
   "source": [
    "1 Definieer een basis agent"
   ]
  },
  {
   "cell_type": "code",
   "execution_count": 11,
   "metadata": {},
   "outputs": [],
   "source": [
    "from langgraph.prebuilt import create_react_agent\n",
    "\n",
    "dotenv.load_dotenv()\n",
    "\n",
    "api_key = os.getenv(\"ANTHROPIC_API_KEY\")\n",
    "model = os.getenv(\"DEFAULT_MODEL\")\n",
    "\n",
    "basic_agent = create_react_agent(\n",
    "    model=model,\n",
    "    tools=[],\n",
    "    prompt=(\"je bent een agent die op alle vragen een verstandig antwoord geeft\"),\n",
    ")"
   ]
  },
  {
   "cell_type": "markdown",
   "metadata": {},
   "source": [
    "Stel een vraag aan de agent"
   ]
  },
  {
   "cell_type": "code",
   "execution_count": 12,
   "metadata": {},
   "outputs": [
    {
     "data": {
      "text/html": [
       "<pre style=\"white-space:pre;overflow-x:auto;line-height:normal;font-family:Menlo,'DejaVu Sans Mono',consolas,'Courier New',monospace\"><span style=\"font-weight: bold\">Logfire</span> project URL: <a href=\"https://logfire-eu.pydantic.dev/elbrink/claude-test\" target=\"_blank\"><span style=\"color: #008080; text-decoration-color: #008080; text-decoration: underline\">https://logfire-eu.pydantic.dev/elbrink/claude-test</span></a>\n",
       "</pre>\n"
      ],
      "text/plain": [
       "\u001b[1mLogfire\u001b[0m project URL: \u001b]8;id=607572;https://logfire-eu.pydantic.dev/elbrink/claude-test\u001b\\\u001b[4;36mhttps://logfire-eu.pydantic.dev/elbrink/claude-test\u001b[0m\u001b]8;;\u001b\\\n"
      ]
     },
     "metadata": {},
     "output_type": "display_data"
    },
    {
     "name": "stdout",
     "output_type": "stream",
     "text": [
      "Een agent is een computerprogramma of systeem dat in staat is om zelfstandig beslissingen te nemen en acties uit te voeren om bepaalde doelen te bereiken. Agenten kunnen worden gebruikt in verschillende toepassingen, zoals:\n",
      "\n",
      "1. Kunstmatige intelligentie: Agenten kunnen worden ingezet om complexe problemen op te lossen, te onderhandelen, te leren en samen te werken met andere agenten.\n",
      "\n",
      "2. Automatisering: Agenten kunnen taken uitvoeren, processen beheren en beslissingen nemen zonder voortdurende menselijke tussenkomst.\n",
      "\n",
      "3. Informatiebeheer: Agenten kunnen informatie verzamelen, filteren, organiseren en presenteren op een manier die voor de gebruiker relevant is.\n",
      "\n",
      "4. Simulatie en modellering: Agenten kunnen worden gebruikt om het gedrag van complexe systemen, zoals ecosystemen of sociale netwerken, te simuleren en te modelleren.\n",
      "\n",
      "5. Robotica: Agenten kunnen worden gebruikt om autonome robots te besturen en hun gedrag te coördineren.\n",
      "\n",
      "Essentiële kenmerken van een agent zijn autonomie, sociale vaardigheden, reactiviteit en pro-activiteit. Agenten moeten in staat zijn om zelfstandig te opereren, samen te werken met andere agenten, te reageren op veranderingen in hun omgeving en zelf initiatief te nemen om hun doelen te bereiken.\n"
     ]
    }
   ],
   "source": [
    "# Run the agent\n",
    "result = basic_agent.invoke(\n",
    "    {\"messages\": [{\"role\": \"user\", \"content\": \"geef een defintie van een agent\"}]}\n",
    ")\n",
    "\n",
    "print(result[\"messages\"][-1].content)"
   ]
  },
  {
   "cell_type": "markdown",
   "metadata": {},
   "source": [
    "Definieer tools voor de agent"
   ]
  },
  {
   "cell_type": "code",
   "execution_count": 13,
   "metadata": {},
   "outputs": [],
   "source": [
    "tool_agent = create_react_agent(\n",
    "    model=model,\n",
    "    tools=[tf.calculate_btw, tf.calculate_discount, tf.get_inwoners_gemeente],\n",
    "    prompt=(\"je bent een agent die op alle vragen een verstandig antwoord geeft\"),\n",
    ")\n",
    "\n",
    "config = {\"configurable\": {\"thread_id\": \"1\"}}"
   ]
  },
  {
   "cell_type": "markdown",
   "metadata": {},
   "source": [
    "Test een aantal tool calls"
   ]
  },
  {
   "cell_type": "code",
   "execution_count": 14,
   "metadata": {},
   "outputs": [
    {
     "name": "stdout",
     "output_type": "stream",
     "text": [
      "Je krijgt 15% korting op het bedrag inclusief BTW van 121 euro. Dat betekent een korting van 18,15 euro. De uiteindelijke prijs die je moet betalen is dan 102,85 euro.\n",
      "\n",
      "Samengevat:\n",
      "- Oorspronkelijk bedrag excl. BTW: 100 euro\n",
      "- BTW (21%): 21 euro\n",
      "- Totaalbedrag incl. BTW: 121 euro \n",
      "- Korting (15%): 18,15 euro\n",
      "- Eindprijs: 102,85 euro\n"
     ]
    }
   ],
   "source": [
    "result2 = tool_agent.invoke(\n",
    "    {\n",
    "        \"messages\": {\n",
    "            \"role\": \"user\",\n",
    "            \"content\": \"ik koop een product X voor 100 euro exclusief BTW, bereken de BTW. Ik krijg van de leverancier ook nog 15% korting op het bedrag inclusief BTW. Geef een overzicht wat ik moet betalen en hoe dat is samengesteld\",\n",
    "        }\n",
    "    },\n",
    "    config=config,\n",
    ")\n",
    "print(result2[\"messages\"][-1].content)"
   ]
  },
  {
   "cell_type": "code",
   "execution_count": 15,
   "metadata": {},
   "outputs": [
    {
     "name": "stdout",
     "output_type": "stream",
     "text": [
      "De top-7 gemeenten in Nederland met de grootste bevolking in 2024 zijn:\n",
      "\n",
      "1. Amsterdam - 931,298 inwoners\n",
      "2. Rotterdam - 670,610 inwoners \n",
      "3. 's-Gravenhage (gemeente) - 566,221 inwoners\n",
      "4. Utrecht (gemeente) - 374,238 inwoners\n",
      "5. Eindhoven - 246,417 inwoners\n",
      "6. Groningen (gemeente) - 243,768 inwoners\n",
      "7. Tilburg - 229,836 inwoners\n",
      "\n",
      "Zoals je kunt zien heeft de gemeente Groningen in 2024 243,768 inwoners.\n"
     ]
    }
   ],
   "source": [
    "result = tool_agent.invoke(\n",
    "    {\n",
    "        \"messages\": [\n",
    "            {\n",
    "                \"role\": \"user\",\n",
    "                \"content\": \"Geef een overzicht van de top-7 gemeenten in Nederland met het grootste aantal inwoners in 2024. Laat ook het aantal inwoners van Groningen zien.\",\n",
    "            }\n",
    "        ]\n",
    "    }\n",
    ")\n",
    "\n",
    "print(result[\"messages\"][-1].content)"
   ]
  },
  {
   "cell_type": "code",
   "execution_count": 16,
   "metadata": {},
   "outputs": [
    {
     "name": "stdout",
     "output_type": "stream",
     "text": [
      "Dus als alle 249.054 inwoners van Eindhoven in 2025 elk 15 euro betalen, dan komt dat neer op een totaalbedrag van 3.735.810 euro.\n"
     ]
    }
   ],
   "source": [
    "result = tool_agent.invoke(\n",
    "    {\n",
    "        \"messages\": [\n",
    "            {\n",
    "                \"role\": \"user\",\n",
    "                \"content\": \"Als alle inwoners uit Eindhoven in 2025 15 euro betalen, hoeveel krijg ik dan.\",\n",
    "            }\n",
    "        ]\n",
    "    }\n",
    ")\n",
    "print(result[\"messages\"][-1].content)"
   ]
  },
  {
   "cell_type": "markdown",
   "metadata": {},
   "source": [
    "Voeg geheugen toe aan de agent"
   ]
  },
  {
   "cell_type": "code",
   "execution_count": 17,
   "metadata": {},
   "outputs": [
    {
     "name": "stdout",
     "output_type": "stream",
     "text": [
      "Met 15% korting op het bedrag inclusief BTW van €121 komt de uiteindelijke prijs die je moet betalen uit op €102,85.\n",
      "\n",
      "Samengevat:\n",
      "- Oorspronkelijk bedrag excl. BTW: €100\n",
      "- BTW (21%): €21\n",
      "- Bedrag incl. BTW: €121\n",
      "- Korting (15% op €121): €18,15\n",
      "- Eindprijs: €102,85\n",
      "\n",
      "Dus je moet uiteindelijk €102,85 betalen voor product X.\n"
     ]
    }
   ],
   "source": [
    "from langgraph.checkpoint.memory import InMemorySaver\n",
    "from langgraph.prebuilt import create_react_agent\n",
    "\n",
    "checkpoint = InMemorySaver()\n",
    "\n",
    "mem_agent = create_react_agent(\n",
    "    model=model,\n",
    "    tools=[tf.calculate_btw, tf.calculate_discount, tf.get_inwoners_gemeente],\n",
    "    prompt=(\"je bent een agent die op alle vragen een verstandig antwoord geeft\"),\n",
    "    checkpointer=checkpoint,\n",
    ")\n",
    "\n",
    "config = {\"configurable\": {\"thread_id\": \"1\"}}\n",
    "\n",
    "result = mem_agent.invoke(\n",
    "    {\n",
    "        \"messages\": {\n",
    "            \"role\": \"user\",\n",
    "            \"content\": \"ik koop een product X voor 100 euro exclusief BTW, bereken de BTW. Ik krijg van de leverancier ook nog 15% korting op het bedrag inclusief BTW. Geef een overzicht wat ik moet betalen en hoe dat is samengesteld\",\n",
    "        }\n",
    "    },\n",
    "    config=config,\n",
    ")\n",
    "print(result[\"messages\"][-1].content)"
   ]
  },
  {
   "cell_type": "code",
   "execution_count": 18,
   "metadata": {},
   "outputs": [
    {
     "name": "stdout",
     "output_type": "stream",
     "text": [
      "De korting was 15% op het bedrag van €121, wat neerkomt op €18,15.\n"
     ]
    }
   ],
   "source": [
    "result = mem_agent.invoke(\n",
    "    {\n",
    "        \"messages\": [\n",
    "            {\n",
    "                \"role\": \"user\",\n",
    "                \"content\": \"wat was ook alweer het btw bedrag van het eerder gekochte product X en hoeveel korting kreeg ik. Zoek dit uit de conversatie hiervoor.\",\n",
    "            }\n",
    "        ]\n",
    "    },\n",
    "    config=config,\n",
    ")\n",
    "print(result[\"messages\"][-1].content)"
   ]
  }
 ],
 "metadata": {
  "kernelspec": {
   "display_name": ".venv",
   "language": "python",
   "name": "python3"
  },
  "language_info": {
   "codemirror_mode": {
    "name": "ipython",
    "version": 3
   },
   "file_extension": ".py",
   "mimetype": "text/x-python",
   "name": "python",
   "nbconvert_exporter": "python",
   "pygments_lexer": "ipython3",
   "version": "3.11.12"
  }
 },
 "nbformat": 4,
 "nbformat_minor": 2
}
