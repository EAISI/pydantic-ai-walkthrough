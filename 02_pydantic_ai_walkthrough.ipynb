{
 "cells": [
  {
   "cell_type": "markdown",
   "metadata": {},
   "source": [
    "# Pydantic AI Walkthrough\n",
    "\n",
    "Inspired bij: https://ai.pydantic.dev/agents/"
   ]
  },
  {
   "cell_type": "markdown",
   "metadata": {},
   "source": [
    "Setup the environment"
   ]
  },
  {
   "cell_type": "code",
   "execution_count": 10,
   "metadata": {},
   "outputs": [],
   "source": [
    "import dotenv\n",
    "import os\n",
    "import logfire\n",
    "\n",
    "import tool_functions as tf\n",
    "\n",
    "import nest_asyncio\n",
    "\n",
    "nest_asyncio.apply()\n",
    "\n",
    "dotenv.load_dotenv()\n",
    "\n",
    "api_key = os.getenv(\"ANTHROPIC_API_KEY\")\n",
    "model = os.getenv(\"DEFAULT_MODEL\")\n",
    "logfire_token = os.getenv(\"LOGFIRE_TOKEN\")\n",
    "\n",
    "# configure logfire\n",
    "logfire.configure(token=logfire_token)\n",
    "logfire.instrument_pydantic_ai()"
   ]
  },
  {
   "cell_type": "markdown",
   "metadata": {},
   "source": [
    "1 Definieer een basis agent"
   ]
  },
  {
   "cell_type": "code",
   "execution_count": 11,
   "metadata": {},
   "outputs": [],
   "source": [
    "from pydantic_ai import Agent\n",
    "from pydantic_ai.models.anthropic import AnthropicModel\n",
    "\n",
    "dotenv.load_dotenv()\n",
    "\n",
    "api_key = os.getenv(\"ANTHROPIC_API_KEY\")\n",
    "model = AnthropicModel(os.getenv(\"DEFAULT_MODEL\"))\n",
    "\n",
    "basic_agent = Agent(\n",
    "    model=model,\n",
    "    output_type=str,\n",
    "    system_prompt=(\n",
    "        \"je bent een agent die op alle vragen een verstandig antwoord geeft\"\n",
    "    ),\n",
    ")"
   ]
  },
  {
   "cell_type": "markdown",
   "metadata": {},
   "source": [
    "Stel een vraag aan de agent"
   ]
  },
  {
   "cell_type": "code",
   "execution_count": 12,
   "metadata": {},
   "outputs": [
    {
     "name": "stdout",
     "output_type": "stream",
     "text": [
      "05:40:19.286 basic_agent run\n",
      "05:40:19.286   chat claude-3-haiku-20240307\n"
     ]
    },
    {
     "data": {
      "text/html": [
       "<pre style=\"white-space:pre;overflow-x:auto;line-height:normal;font-family:Menlo,'DejaVu Sans Mono',consolas,'Courier New',monospace\"><span style=\"font-weight: bold\">Logfire</span> project URL: <a href=\"https://logfire-eu.pydantic.dev/elbrink/claude-test\" target=\"_blank\"><span style=\"color: #008080; text-decoration-color: #008080; text-decoration: underline\">https://logfire-eu.pydantic.dev/elbrink/claude-test</span></a>\n",
       "</pre>\n"
      ],
      "text/plain": [
       "\u001b[1mLogfire\u001b[0m project URL: \u001b]8;id=330515;https://logfire-eu.pydantic.dev/elbrink/claude-test\u001b\\\u001b[4;36mhttps://logfire-eu.pydantic.dev/elbrink/claude-test\u001b[0m\u001b]8;;\u001b\\\n"
      ]
     },
     "metadata": {},
     "output_type": "display_data"
    },
    {
     "name": "stdout",
     "output_type": "stream",
     "text": [
      "Een agent is in de informatica een softwareprogramma of computersysteem dat autonoom en adaptief handelt om een bepaald doel te bereiken. Enkele kenmerken van een agent zijn:\n",
      "\n",
      "1. Autonomie: De agent kan zelfstandig beslissingen nemen en acties uitvoeren zonder directe menselijke interventie.\n",
      "\n",
      "2. Proactief gedrag: De agent kan zelf initiatieven nemen om doelen te bereiken, in plaats van alleen te reageren op externe prikkels.\n",
      "\n",
      "3. Waarneming van de omgeving: De agent kan informatie opnemen uit zijn omgeving, zoals sensoren, gebruikersinvoer of andere gegevenbronnen.\n",
      "\n",
      "4. Adaptief vermogen: De agent kan zijn gedrag aanpassen aan veranderende omstandigheden of nieuwe informatie, om zijn doelen te blijven bereiken.\n",
      "\n",
      "5. Communicatie: Agents kunnen onderling communiceren en samenwerken om complexere taken uit te voeren.\n",
      "\n",
      "Agenten worden ingezet in uiteenlopende toepassingen, zoals kunstmatige intelligentie, robotica, informatiesystemen en beslissingsondersteuning. De mate van autonomie en de specifieke doelen van een agent kunnen sterk variëren afhankelijk van de toepassing.\n"
     ]
    }
   ],
   "source": [
    "result = basic_agent.run_sync(\"geef een defintie van een agent\")\n",
    "print(result.output)"
   ]
  },
  {
   "cell_type": "markdown",
   "metadata": {},
   "source": [
    "Definieer tools voor de agent"
   ]
  },
  {
   "cell_type": "code",
   "execution_count": 13,
   "metadata": {},
   "outputs": [],
   "source": [
    "tool_agent = Agent(\n",
    "    model=model,\n",
    "    output_type=str,\n",
    "    system_prompt=(\n",
    "        \"je bent een agent die op alle vragen een verstandig antwoord geeft\"\n",
    "    ),\n",
    ")\n",
    "\n",
    "\n",
    "@tool_agent.tool_plain\n",
    "def tool_bereken_btw(bedrag: float, btw_percentage: float):\n",
    "    \"\"\"\n",
    "    Bereken BTW over een bedrag.\n",
    "    \"\"\"\n",
    "    return tf.calculate_btw(bedrag, btw_percentage)\n",
    "\n",
    "\n",
    "@tool_agent.tool_plain\n",
    "def tool_bereken_korting(bedrag: float, korting_percentage: float):\n",
    "    \"\"\"\n",
    "    Bereken korting over een bedrag.\n",
    "    \"\"\"\n",
    "    return tf.calculate_discount(bedrag, korting_percentage)\n",
    "\n",
    "\n",
    "@tool_agent.tool_plain\n",
    "def tool_get_inwoners_gemeente(gemeente_naam: str, jaar: str):\n",
    "    \"\"\"\n",
    "    Haal inwonersaantallen op van Nederlandse gemeenten via CBS API.\n",
    "    \"\"\"\n",
    "    return tf.get_inwoners_gemeente(gemeente_naam, jaar)"
   ]
  },
  {
   "cell_type": "markdown",
   "metadata": {},
   "source": [
    "Test een aantal tool calls"
   ]
  },
  {
   "cell_type": "code",
   "execution_count": 14,
   "metadata": {},
   "outputs": [
    {
     "name": "stdout",
     "output_type": "stream",
     "text": [
      "05:40:22.115 tool_agent run\n",
      "05:40:22.116   chat claude-3-haiku-20240307\n",
      "05:40:23.653   running 1 tool\n",
      "05:40:23.654     running tool: tool_bereken_btw\n",
      "05:40:23.655   chat claude-3-haiku-20240307\n",
      "05:40:25.563   running 1 tool\n",
      "05:40:25.563     running tool: tool_bereken_korting\n",
      "05:40:25.565   chat claude-3-haiku-20240307\n",
      "Met 15% korting op het bedrag inclusief BTW van 121 euro, kom je uit op een eindprijs van 102,85 euro.\n",
      "\n",
      "Samengevat:\n",
      "- Oorspronkelijke prijs excl. BTW: 100 euro\n",
      "- BTW bedrag: 21 euro\n",
      "- Prijs incl. BTW: 121 euro\n",
      "- Korting van 15%: 18,15 euro\n",
      "- Uiteindelijke prijs: 102,85 euro\n"
     ]
    }
   ],
   "source": [
    "result2 = tool_agent.run_sync(\n",
    "    \"ik koop een product X voor 100 euro exclusief BTW, bereken de BTW. Ik krijg van de leverancier ook nog 15% korting op het bedrag inclusief BTW. Geef een overzicht wat ik moet betalen en hoe dat is samengesteld\"\n",
    ")\n",
    "print(result2.output)"
   ]
  },
  {
   "cell_type": "code",
   "execution_count": 15,
   "metadata": {},
   "outputs": [
    {
     "name": "stdout",
     "output_type": "stream",
     "text": [
      "05:40:27.056 tool_agent run\n",
      "05:40:27.057   chat claude-3-haiku-20240307\n",
      "05:40:28.387   running 1 tool\n",
      "05:40:28.388     running tool: tool_get_inwoners_gemeente\n",
      "05:40:29.062   chat claude-3-haiku-20240307\n",
      "05:40:30.164   running 1 tool\n",
      "05:40:30.165     running tool: tool_get_inwoners_gemeente\n",
      "05:40:30.716   chat claude-3-haiku-20240307\n",
      "05:40:31.745   running 1 tool\n",
      "05:40:31.745     running tool: tool_get_inwoners_gemeente\n",
      "05:40:32.165   chat claude-3-haiku-20240307\n",
      "05:40:33.235   running 1 tool\n",
      "05:40:33.236     running tool: tool_get_inwoners_gemeente\n",
      "05:40:33.643   chat claude-3-haiku-20240307\n",
      "05:40:34.806   running 1 tool\n",
      "05:40:34.807     running tool: tool_get_inwoners_gemeente\n",
      "05:40:35.213   chat claude-3-haiku-20240307\n",
      "05:40:36.324   running 1 tool\n",
      "05:40:36.324     running tool: tool_get_inwoners_gemeente\n",
      "05:40:36.728   chat claude-3-haiku-20240307\n",
      "05:40:37.827   running 1 tool\n",
      "05:40:37.828     running tool: tool_get_inwoners_gemeente\n",
      "05:40:38.236   chat claude-3-haiku-20240307\n",
      "Op basis van deze resultaten is de top-7 gemeenten in Nederland met het grootste aantal inwoners in 2024:\n",
      "\n",
      "1. Amsterdam: 931.298 inwoners\n",
      "2. Rotterdam: 670.610 inwoners \n",
      "3. Utrecht: 374.238 inwoners\n",
      "4. Eindhoven: 246.417 inwoners\n",
      "5. Tilburg: 229.836 inwoners\n",
      "6. Groningen: 243.768 inwoners\n",
      "7. Breda: 188.078 inwoners\n",
      "\n",
      "Het aantal inwoners van de gemeente Groningen in 2024 is 243.768.\n"
     ]
    }
   ],
   "source": [
    "result = tool_agent.run_sync(\n",
    "    \"Geef een overzicht van de top-7 gemeenten in Nederland met het grootste aantal inwoners in 2024. Laat ook het aantal inwoners van Groningen zien.\"\n",
    ")\n",
    "print(result.output)"
   ]
  },
  {
   "cell_type": "code",
   "execution_count": 16,
   "metadata": {},
   "outputs": [
    {
     "name": "stdout",
     "output_type": "stream",
     "text": [
      "05:40:40.057 tool_agent run\n",
      "05:40:40.058   chat claude-3-haiku-20240307\n",
      "05:40:42.006   running 1 tool\n",
      "05:40:42.006     running tool: tool_get_inwoners_gemeente\n",
      "05:40:42.591   chat claude-3-haiku-20240307\n",
      "Volgens de CBS-data zal Eindhoven in 2025 ongeveer 249.054 inwoners hebben.\n",
      "\n",
      "Als elk van deze inwoners 15 euro betaalt, dan zou dat het volgende opleveren:\n",
      "\n",
      "Aantal inwoners: 249.054\n",
      "Bedrag per inwoner: 15 euro\n",
      "Totaal bedrag: 249.054 * 15 = 3.735.810 euro\n",
      "\n",
      "Dus als alle inwoners van Eindhoven in 2025 elk 15 euro betalen, zou dat in totaal 3.735.810 euro opleveren.\n"
     ]
    }
   ],
   "source": [
    "result = tool_agent.run_sync(\n",
    "    \"Als alle inwoners uit Eindhoven in 2025 15 euro betalen, hoeveel krijg ik dan.\"\n",
    ")\n",
    "print(result.output)"
   ]
  },
  {
   "cell_type": "markdown",
   "metadata": {},
   "source": [
    "Voeg geheugen toe aan de agent"
   ]
  },
  {
   "cell_type": "code",
   "execution_count": 17,
   "metadata": {},
   "outputs": [
    {
     "name": "stdout",
     "output_type": "stream",
     "text": [
      "05:40:44.287 mem_agent run\n",
      "05:40:44.288   chat claude-3-haiku-20240307\n",
      "Uit de vorige stappen kunnen we het volgende afleiden:\n",
      "\n",
      "BTW bedrag:\n",
      "\n"
     ]
    }
   ],
   "source": [
    "mem_agent = Agent(\n",
    "    model=model,\n",
    "    output_type=str,\n",
    "    system_prompt=(\n",
    "        \"je bent een agent die op alle vragen een verstandig antwoord geeft\"\n",
    "    ),\n",
    ")\n",
    "\n",
    "result = mem_agent.run_sync(\n",
    "    \"wat was ook alweer het btw bedrag van het eerder gekochte product X en hoeveel korting kreeg ik. Zoek dit uit de conversatie hiervoor.\",\n",
    "    message_history=result2.all_messages(),\n",
    ")\n",
    "print(result.output)"
   ]
  }
 ],
 "metadata": {
  "kernelspec": {
   "display_name": ".venv",
   "language": "python",
   "name": "python3"
  },
  "language_info": {
   "codemirror_mode": {
    "name": "ipython",
    "version": 3
   },
   "file_extension": ".py",
   "mimetype": "text/x-python",
   "name": "python",
   "nbconvert_exporter": "python",
   "pygments_lexer": "ipython3",
   "version": "3.11.12"
  }
 },
 "nbformat": 4,
 "nbformat_minor": 2
}
