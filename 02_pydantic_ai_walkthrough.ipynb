{
 "cells": [
  {
   "cell_type": "markdown",
   "metadata": {},
   "source": [
    "# Pydantic AI Walkthrough\n",
    "\n",
    "Inspired bij: https://ai.pydantic.dev/agents/"
   ]
  },
  {
   "cell_type": "markdown",
   "metadata": {},
   "source": [
    "Setup the environment"
   ]
  },
  {
   "cell_type": "code",
   "execution_count": null,
   "metadata": {},
   "outputs": [
    {
     "data": {
      "text/html": [
       "<pre style=\"white-space:pre;overflow-x:auto;line-height:normal;font-family:Menlo,'DejaVu Sans Mono',consolas,'Courier New',monospace\"><span style=\"font-weight: bold\">Logfire</span> project URL: <a href=\"https://logfire-eu.pydantic.dev/elbrink/claude-test\" target=\"_blank\"><span style=\"color: #008080; text-decoration-color: #008080; text-decoration: underline\">https://logfire-eu.pydantic.dev/elbrink/claude-test</span></a>\n",
       "</pre>\n"
      ],
      "text/plain": [
       "\u001b[1mLogfire\u001b[0m project URL: \u001b]8;id=123714;https://logfire-eu.pydantic.dev/elbrink/claude-test\u001b\\\u001b[4;36mhttps://logfire-eu.pydantic.dev/elbrink/claude-test\u001b[0m\u001b]8;;\u001b\\\n"
      ]
     },
     "metadata": {},
     "output_type": "display_data"
    }
   ],
   "source": [
    "import dotenv\n",
    "import os\n",
    "import logfire\n",
    "\n",
    "import tool_functions as tf\n",
    "\n",
    "import nest_asyncio\n",
    "\n",
    "nest_asyncio.apply()\n",
    "\n",
    "dotenv.load_dotenv()\n",
    "\n",
    "api_key = os.getenv(\"ANTHROPIC_API_KEY\")\n",
    "model = os.getenv(\"DEFAULT_MODEL\")\n",
    "logfire_token = os.getenv(\"LOGFIRE_TOKEN\")\n",
    "\n",
    "# configure logfire\n",
    "logfire.configure(token=logfire_token)\n",
    "logfire.instrument_pydantic_ai()"
   ]
  },
  {
   "cell_type": "markdown",
   "metadata": {},
   "source": [
    "1 Definieer een basis agent"
   ]
  },
  {
   "cell_type": "code",
   "execution_count": 3,
   "metadata": {},
   "outputs": [],
   "source": [
    "from pydantic_ai import Agent\n",
    "from pydantic_ai.models.anthropic import AnthropicModel\n",
    "\n",
    "dotenv.load_dotenv()\n",
    "\n",
    "api_key = os.getenv(\"ANTHROPIC_API_KEY\")\n",
    "model = AnthropicModel(os.getenv(\"DEFAULT_MODEL\"))\n",
    "\n",
    "basic_agent = Agent(\n",
    "    model=model,\n",
    "    output_type=str,\n",
    "    system_prompt=(\n",
    "        \"je bent een agent die op alle vragen een verstandig antwoord geeft\"\n",
    "    ),\n",
    ")"
   ]
  },
  {
   "cell_type": "markdown",
   "metadata": {},
   "source": [
    "Stel een vraag aan de agent"
   ]
  },
  {
   "cell_type": "code",
   "execution_count": 4,
   "metadata": {},
   "outputs": [
    {
     "name": "stdout",
     "output_type": "stream",
     "text": [
      "15:33:32.063 basic_agent run\n",
      "15:33:32.064   chat claude-3-haiku-20240307\n",
      "Een agent is een autonoom systeem dat zich in een bepaalde omgeving bevindt en daar acties in onderneemt om bepaalde doelen te bereiken. De belangrijkste kenmerken van een agent zijn:\n",
      "\n",
      "1. Autonomie: De agent kan zelfstandig beslissingen nemen en acties uitvoeren zonder voortdurende menselijke tussenkomst.\n",
      "\n",
      "2. Waarneming: De agent kan informatie waarnemen over zijn omgeving via sensoren, zoals camera's, microfoons of andere invoerkanalen.\n",
      "\n",
      "3. Doelgerichtheid: De agent heeft specifieke doelen of taken die hij probeert te bereiken door middel van zijn acties.\n",
      "\n",
      "4. Proactief handelen: De agent kan zelf initiatieven nemen en pro-actief handelen om zijn doelen te bereiken, in plaats van alleen reactief te reageren op externe prikkels.\n",
      "\n",
      "5. Flexibiliteit: Een agent kan zich aanpassen aan veranderende omstandigheden en nieuwe situaties, en zijn gedrag en besluitvorming daarop afstemmen.\n",
      "\n",
      "Agenten kunnen in vele vormen voorkomen, zoals softwareagenten, robotagenten of menselijke agenten die namens een organisatie handelen. De kern is dat ze autonoom opereren om bepaalde doelen te bereiken binnen hun omgeving.\n"
     ]
    }
   ],
   "source": [
    "result = basic_agent.run_sync(\"geef een defintie van een agent\")\n",
    "print(result.output)"
   ]
  },
  {
   "cell_type": "markdown",
   "metadata": {},
   "source": [
    "Definieer tools voor de agent"
   ]
  },
  {
   "cell_type": "code",
   "execution_count": 5,
   "metadata": {},
   "outputs": [],
   "source": [
    "tool_agent = Agent(\n",
    "    model=model,\n",
    "    output_type=str,\n",
    "    system_prompt=(\n",
    "        \"je bent een agent die op alle vragen een verstandig antwoord geeft\"\n",
    "    ),\n",
    ")\n",
    "\n",
    "\n",
    "@tool_agent.tool_plain\n",
    "def tool_bereken_btw(bedrag: float, btw_percentage: float):\n",
    "    \"\"\"\n",
    "    Bereken BTW over een bedrag.\n",
    "    \"\"\"\n",
    "    return tf.calculate_btw(bedrag, btw_percentage)\n",
    "\n",
    "\n",
    "@tool_agent.tool_plain\n",
    "def tool_bereken_korting(bedrag: float, korting_percentage: float):\n",
    "    \"\"\"\n",
    "    Bereken korting over een bedrag.\n",
    "    \"\"\"\n",
    "    return tf.calculate_discount(bedrag, korting_percentage)\n",
    "\n",
    "\n",
    "@tool_agent.tool_plain\n",
    "def tool_get_inwoners_gemeente(gemeente_naam: str, jaar: str):\n",
    "    \"\"\"\n",
    "    Haal inwonersaantallen op van Nederlandse gemeenten via CBS API.\n",
    "    \"\"\"\n",
    "    return tf.get_inwoners_gemeente(gemeente_naam, jaar)"
   ]
  },
  {
   "cell_type": "markdown",
   "metadata": {},
   "source": [
    "Test een aantal tool calls"
   ]
  },
  {
   "cell_type": "code",
   "execution_count": 6,
   "metadata": {},
   "outputs": [
    {
     "name": "stdout",
     "output_type": "stream",
     "text": [
      "15:33:42.048 tool_agent run\n",
      "15:33:42.049   chat claude-3-haiku-20240307\n",
      "15:33:43.569   running 1 tool\n",
      "15:33:43.570     running tool: tool_bereken_btw\n",
      "15:33:43.571   chat claude-3-haiku-20240307\n",
      "15:33:45.028   running 1 tool\n",
      "15:33:45.029     running tool: tool_bereken_korting\n",
      "15:33:45.030   chat claude-3-haiku-20240307\n",
      "Na de 15% korting op het bedrag inclusief BTW, komt de uiteindelijke prijs die je moet betalen neer op 102,85 euro.\n",
      "\n",
      "Samengevat:\n",
      "- Origineel bedrag exclusief BTW: 100 euro\n",
      "- BTW (21%): 21 euro\n",
      "- Totaalbedrag inclusief BTW: 121 euro\n",
      "- Korting (15%): 18,15 euro\n",
      "- Eindprijs na korting: 102,85 euro\n",
      "\n",
      "Het overzicht is:\n",
      "- Origineel bedrag excl. BTW: 100 euro\n",
      "- BTW (21%): 21 euro\n",
      "- Totaalbedrag incl. BTW: 121 euro\n",
      "- Korting (15%): 18,15 euro\n",
      "- Eindprijs na korting: 102,85 euro\n"
     ]
    }
   ],
   "source": [
    "result2 = tool_agent.run_sync(\n",
    "    \"ik koop een product X voor 100 euro exclusief BTW, bereken de BTW. Ik krijg van de leverancier ook nog 15% korting op het bedrag inclusief BTW. Geef een overzicht wat ik moet betalen en hoe dat is samengesteld\"\n",
    ")\n",
    "print(result2.output)"
   ]
  },
  {
   "cell_type": "code",
   "execution_count": 7,
   "metadata": {},
   "outputs": [
    {
     "name": "stdout",
     "output_type": "stream",
     "text": [
      "15:33:56.284 tool_agent run\n",
      "15:33:56.285   chat claude-3-haiku-20240307\n",
      "15:34:00.696   running 7 tools\n",
      "15:34:00.697     running tool: tool_get_inwoners_gemeente\n",
      "15:34:00.697     running tool: tool_get_inwoners_gemeente\n",
      "15:34:00.697     running tool: tool_get_inwoners_gemeente\n",
      "15:34:00.698     running tool: tool_get_inwoners_gemeente\n",
      "15:34:00.698     running tool: tool_get_inwoners_gemeente\n",
      "15:34:00.698     running tool: tool_get_inwoners_gemeente\n",
      "15:34:00.698     running tool: tool_get_inwoners_gemeente\n",
      "15:34:02.035   chat claude-3-haiku-20240307\n",
      "Op basis van de resultaten, hier de top-7 gemeenten met het grootste aantal inwoners in 2024:\n",
      "\n",
      "1. Amsterdam: 931.298 inwoners\n",
      "2. Rotterdam: 670.610 inwoners \n",
      "3. Utrecht: 374.238 inwoners\n",
      "4. Eindhoven: 246.417 inwoners\n",
      "5. Tilburg: 229.836 inwoners\n",
      "6. Groningen: 243.768 inwoners\n",
      "7. Breda: 188.078 inwoners\n",
      "\n",
      "Dus de gemeente Groningen had in 2024 243.768 inwoners.\n"
     ]
    }
   ],
   "source": [
    "result = tool_agent.run_sync(\n",
    "    \"Geef een overzicht van de top-7 gemeenten in Nederland met het grootste aantal inwoners in 2024. Laat ook het aantal inwoners van Groningen zien.\"\n",
    ")\n",
    "print(result.output)"
   ]
  },
  {
   "cell_type": "code",
   "execution_count": 8,
   "metadata": {},
   "outputs": [
    {
     "name": "stdout",
     "output_type": "stream",
     "text": [
      "15:34:18.259 tool_agent run\n",
      "15:34:18.260   chat claude-3-haiku-20240307\n",
      "15:34:20.044   running 1 tool\n",
      "15:34:20.044     running tool: tool_get_inwoners_gemeente\n",
      "15:34:20.966   chat claude-3-haiku-20240307\n",
      "Volgens de gegevens van het CBS zal Eindhoven in 2025 ongeveer 249.054 inwoners hebben.\n",
      "\n",
      "Als elk van deze inwoners 15 euro betaalt, dan is de totale opbrengst:\n",
      "\n",
      "249.054 inwoners x 15 euro = 3.735.810 euro\n",
      "\n",
      "Dus als alle inwoners van Eindhoven in 2025 elk 15 euro betalen, krijg je in totaal 3.735.810 euro.\n"
     ]
    }
   ],
   "source": [
    "result = tool_agent.run_sync(\n",
    "    \"Als alle inwoners uit Eindhoven in 2025 15 euro betalen, hoeveel krijg ik dan.\"\n",
    ")\n",
    "print(result.output)"
   ]
  },
  {
   "cell_type": "markdown",
   "metadata": {},
   "source": [
    "Voeg geheugen toe aan de agent"
   ]
  },
  {
   "cell_type": "code",
   "execution_count": 9,
   "metadata": {},
   "outputs": [
    {
     "name": "stdout",
     "output_type": "stream",
     "text": [
      "15:34:28.528 mem_agent run\n",
      "15:34:28.528   chat claude-3-haiku-20240307\n",
      "Goed, laten we dat even terugzoeken in de vorige stappen:\n",
      "\n",
      "Uit de eerste stap blijkt:\n",
      "- Het bedrag exclusief BTW was 100 euro\n",
      "- Het BTW bedrag was 21 euro\n",
      "\n",
      "Uit de tweede stap blijkt:\n",
      "- De korting was 15% op het bedrag inclusief BTW van 121 euro\n",
      "- Het kortingsbedrag was 18,15 euro\n",
      "\n",
      "Dus samengevat:\n",
      "- BTW bedrag: 21 euro\n",
      "- Korting: 18,15 euro\n"
     ]
    }
   ],
   "source": [
    "mem_agent = Agent(\n",
    "    model=model,\n",
    "    output_type=str,\n",
    "    system_prompt=(\n",
    "        \"je bent een agent die op alle vragen een verstandig antwoord geeft\"\n",
    "    ),\n",
    ")\n",
    "\n",
    "result = mem_agent.run_sync(\n",
    "    \"wat was ook alweer het btw bedrag van het eerder gekochte product X en hoeveel korting kreeg ik. Zoek dit uit de conversatie hiervoor.\",\n",
    "    message_history=result2.all_messages(),\n",
    ")\n",
    "print(result.output)"
   ]
  }
 ],
 "metadata": {
  "kernelspec": {
   "display_name": ".venv",
   "language": "python",
   "name": "python3"
  },
  "language_info": {
   "codemirror_mode": {
    "name": "ipython",
    "version": 3
   },
   "file_extension": ".py",
   "mimetype": "text/x-python",
   "name": "python",
   "nbconvert_exporter": "python",
   "pygments_lexer": "ipython3",
   "version": "3.11.12"
  }
 },
 "nbformat": 4,
 "nbformat_minor": 2
}
