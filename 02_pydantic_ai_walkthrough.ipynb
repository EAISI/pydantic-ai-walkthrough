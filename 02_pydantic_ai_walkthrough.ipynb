{
 "cells": [
  {
   "cell_type": "markdown",
   "metadata": {},
   "source": [
    "# Pydantic AI Walkthrough\n",
    "\n",
    "Inspired bij: https://ai.pydantic.dev/agents/"
   ]
  },
  {
   "cell_type": "markdown",
   "metadata": {},
   "source": [
    "Setup the environment"
   ]
  },
  {
   "cell_type": "code",
   "execution_count": 1,
   "metadata": {},
   "outputs": [
    {
     "data": {
      "text/html": [
       "<pre style=\"white-space:pre;overflow-x:auto;line-height:normal;font-family:Menlo,'DejaVu Sans Mono',consolas,'Courier New',monospace\"><span style=\"font-weight: bold\">Logfire</span> project URL: <a href=\"https://logfire-eu.pydantic.dev/elbrink/claude-test\" target=\"_blank\"><span style=\"color: #008080; text-decoration-color: #008080; text-decoration: underline\">https://logfire-eu.pydantic.dev/elbrink/claude-test</span></a>\n",
       "</pre>\n"
      ],
      "text/plain": [
       "\u001b[1mLogfire\u001b[0m project URL: \u001b]8;id=828410;https://logfire-eu.pydantic.dev/elbrink/claude-test\u001b\\\u001b[4;36mhttps://logfire-eu.pydantic.dev/elbrink/claude-test\u001b[0m\u001b]8;;\u001b\\\n"
      ]
     },
     "metadata": {},
     "output_type": "display_data"
    }
   ],
   "source": [
    "import dotenv\n",
    "import os\n",
    "import logfire\n",
    "\n",
    "import tool_functions as tf\n",
    "\n",
    "import nest_asyncio\n",
    "\n",
    "nest_asyncio.apply()\n",
    "\n",
    "dotenv.load_dotenv()\n",
    "\n",
    "api_key = os.getenv(\"ANTHROPIC_API_KEY\")\n",
    "model = os.getenv(\"DEFAULT_MODEL\")\n",
    "\n",
    "# configure logfire\n",
    "logfire.configure(token=\"pylf_v1_eu_jBBZFhCgN5s0hYgrFYK0wtbV5zt1Z9hhBM11nTXf6vlW\")\n",
    "logfire.instrument_pydantic_ai()"
   ]
  },
  {
   "cell_type": "markdown",
   "metadata": {},
   "source": [
    "1 Definieer een basis agent"
   ]
  },
  {
   "cell_type": "code",
   "execution_count": 2,
   "metadata": {},
   "outputs": [],
   "source": [
    "from pydantic_ai import Agent\n",
    "from pydantic_ai.models.anthropic import AnthropicModel\n",
    "\n",
    "dotenv.load_dotenv()\n",
    "\n",
    "api_key = os.getenv(\"ANTHROPIC_API_KEY\")\n",
    "model = AnthropicModel(os.getenv(\"DEFAULT_MODEL\"))\n",
    "\n",
    "basic_agent = Agent(\n",
    "    model=model,\n",
    "    output_type=str,\n",
    "    system_prompt=(\n",
    "        \"je bent een agent die op alle vragen een verstandig antwoord geeft\"\n",
    "    ),\n",
    ")"
   ]
  },
  {
   "cell_type": "markdown",
   "metadata": {},
   "source": [
    "Stel een vraag aan de agent"
   ]
  },
  {
   "cell_type": "code",
   "execution_count": 3,
   "metadata": {},
   "outputs": [
    {
     "name": "stdout",
     "output_type": "stream",
     "text": [
      "17:28:34.488 basic_agent run\n",
      "17:28:34.489   chat claude-3-haiku-20240307\n",
      "Een agent is een autonome entiteit die waarneemt en handelt in een omgeving om een bepaald doel te bereiken. De belangrijkste kenmerken van een agent zijn:\n",
      "\n",
      "1. Autonomie: Een agent kan zelfstandig beslissingen nemen en acties ondernemen zonder direct menselijk ingrijpen.\n",
      "\n",
      "2. Waarneming: Een agent neemt informatie waar uit zijn omgeving via sensoren of andere middelen.\n",
      "\n",
      "3. Besluitvorming: Op basis van de waargenomen informatie kan de agent beslissingen nemen over de te ondernemen acties.\n",
      "\n",
      "4. Doelgerichtheid: De agent streeft naar het bereiken van een bepaald doel of set van doelen.\n",
      "\n",
      "5. Adaptiviteit: Een agent kan zich aanpassen aan veranderingen in zijn omgeving en zijn gedrag bijstellen om zijn doelen te bereiken.\n",
      "\n",
      "Agenten kunnen in verschillende vormen voorkomen, zoals softwareagenten, robotagenten of zelfs menselijke agenten. De kern is dat ze autonoom kunnen opereren om hun doel te bereiken in een dynamische omgeving.\n"
     ]
    }
   ],
   "source": [
    "result = basic_agent.run_sync(\"geef een defintie van een agent\")\n",
    "print(result.output)"
   ]
  },
  {
   "cell_type": "markdown",
   "metadata": {},
   "source": [
    "Definieer tools voor de agent"
   ]
  },
  {
   "cell_type": "code",
   "execution_count": 4,
   "metadata": {},
   "outputs": [],
   "source": [
    "tool_agent = Agent(\n",
    "    model=model,\n",
    "    output_type=str,\n",
    "    system_prompt=(\n",
    "        \"je bent een agent die op alle vragen een verstandig antwoord geeft\"\n",
    "    ),\n",
    ")\n",
    "\n",
    "\n",
    "@tool_agent.tool_plain\n",
    "def tool_bereken_btw(bedrag: float, btw_percentage: float):\n",
    "    \"\"\"\n",
    "    Bereken BTW over een bedrag.\n",
    "    \"\"\"\n",
    "    return tf.calculate_btw(bedrag, btw_percentage)\n",
    "\n",
    "\n",
    "@tool_agent.tool_plain\n",
    "def tool_bereken_korting(bedrag: float, korting_percentage: float):\n",
    "    \"\"\"\n",
    "    Bereken korting over een bedrag.\n",
    "    \"\"\"\n",
    "    return tf.calculate_discount(bedrag, korting_percentage)\n",
    "\n",
    "\n",
    "@tool_agent.tool_plain\n",
    "def tool_get_inwoners_gemeente(gemeente_naam: str, jaar: str):\n",
    "    \"\"\"\n",
    "    Haal inwonersaantallen op van Nederlandse gemeenten via CBS API.\n",
    "    \"\"\"\n",
    "    return tf.get_inwoners_gemeente(gemeente_naam, jaar)"
   ]
  },
  {
   "cell_type": "markdown",
   "metadata": {},
   "source": [
    "Test een aantal tool calls"
   ]
  },
  {
   "cell_type": "code",
   "execution_count": 5,
   "metadata": {},
   "outputs": [
    {
     "name": "stdout",
     "output_type": "stream",
     "text": [
      "17:28:36.847 tool_agent run\n",
      "17:28:36.848   chat claude-3-haiku-20240307\n",
      "17:28:38.061   running 1 tool\n",
      "17:28:38.061     running tool: tool_bereken_btw\n",
      "17:28:38.063   chat claude-3-haiku-20240307\n",
      "17:28:39.473   running 1 tool\n",
      "17:28:39.474     running tool: tool_bereken_korting\n",
      "17:28:39.476   chat claude-3-haiku-20240307\n",
      "Met een korting van 15% op het bedrag inclusief BTW (€121) komt daar €18,15 korting vanaf, waardoor je uiteindelijk €102,85 moet betalen.\n",
      "\n",
      "Samengevat:\n",
      "- Oorspronkelijk bedrag excl. BTW: €100\n",
      "- BTW (21%): €21\n",
      "- Totaal bedrag incl. BTW: €121\n",
      "- Korting (15%): €18,15\n",
      "- Eindprijs: €102,85\n"
     ]
    }
   ],
   "source": [
    "result2 = tool_agent.run_sync(\n",
    "    \"ik koop een product X voor 100 euro exclusief BTW, bereken de BTW. Ik krijg van de leverancier ook nog 15% korting op het bedrag inclusief BTW. Geef een overzicht wat ik moet betalen en hoe dat is samengesteld\"\n",
    ")\n",
    "print(result2.output)"
   ]
  },
  {
   "cell_type": "code",
   "execution_count": 6,
   "metadata": {},
   "outputs": [
    {
     "name": "stdout",
     "output_type": "stream",
     "text": [
      "17:28:40.950 tool_agent run\n",
      "17:28:40.951   chat claude-3-haiku-20240307\n",
      "17:28:42.250   running 1 tool\n",
      "17:28:42.250     running tool: tool_get_inwoners_gemeente\n",
      "17:28:42.877   chat claude-3-haiku-20240307\n",
      "17:28:44.035   running 1 tool\n",
      "17:28:44.036     running tool: tool_get_inwoners_gemeente\n",
      "17:28:44.612   chat claude-3-haiku-20240307\n",
      "17:28:45.643   running 1 tool\n",
      "17:28:45.644     running tool: tool_get_inwoners_gemeente\n",
      "17:28:46.257   chat claude-3-haiku-20240307\n",
      "17:28:47.332   running 1 tool\n",
      "17:28:47.333     running tool: tool_get_inwoners_gemeente\n",
      "17:28:47.773   chat claude-3-haiku-20240307\n",
      "17:28:49.047   running 1 tool\n",
      "17:28:49.047     running tool: tool_get_inwoners_gemeente\n",
      "17:28:49.521   chat claude-3-haiku-20240307\n",
      "17:28:50.861   running 1 tool\n",
      "17:28:50.862     running tool: tool_get_inwoners_gemeente\n",
      "17:28:51.392   chat claude-3-haiku-20240307\n",
      "17:28:53.207   running 1 tool\n",
      "17:28:53.208     running tool: tool_get_inwoners_gemeente\n",
      "17:28:53.728   chat claude-3-haiku-20240307\n",
      "De top 7 gemeenten in Nederland met het grootste aantal inwoners in 2024 zijn:\n",
      "1. Amsterdam: 931,298\n",
      "2. Rotterdam: 670,610\n",
      "3. Utrecht: 374,238\n",
      "4. Eindhoven: 246,417\n",
      "5. Tilburg: 229,836\n",
      "6. Groningen: 243,768\n",
      "7. Breda: 188,078\n",
      "\n",
      "Het aantal inwoners van de gemeente Groningen in 2024 is 243,768.\n"
     ]
    }
   ],
   "source": [
    "result = tool_agent.run_sync(\n",
    "    \"Geef een overzicht van de top-7 gemeenten in Nederland met het grootste aantal inwoners in 2024. Laat ook het aantal inwoners van Groningen zien.\"\n",
    ")\n",
    "print(result.output)"
   ]
  },
  {
   "cell_type": "code",
   "execution_count": 7,
   "metadata": {},
   "outputs": [
    {
     "name": "stdout",
     "output_type": "stream",
     "text": [
      "17:28:55.123 tool_agent run\n",
      "17:28:55.124   chat claude-3-haiku-20240307\n",
      "17:28:56.233   running 1 tool\n",
      "17:28:56.234     running tool: tool_get_inwoners_gemeente\n",
      "17:28:56.741   chat claude-3-haiku-20240307\n",
      "Volgens de gegevens had Eindhoven in 2025 ongeveer 249.054 inwoners.\n",
      "\n",
      "Als elke inwoner 15 euro betaalt, dan is de totale opbrengst:\n",
      "249.054 x 15 euro = 3.735.810 euro\n",
      "\n",
      "Dus als alle inwoners van Eindhoven in 2025 elk 15 euro betalen, dan krijg je in totaal 3.735.810 euro.\n"
     ]
    }
   ],
   "source": [
    "result = tool_agent.run_sync(\n",
    "    \"Als alle inwoners uit Eindhoven in 2025 15 euro betalen, hoeveel krijg ik dan.\"\n",
    ")\n",
    "print(result.output)"
   ]
  },
  {
   "cell_type": "markdown",
   "metadata": {},
   "source": [
    "Voeg geheugen toe aan de agent"
   ]
  },
  {
   "cell_type": "code",
   "execution_count": 8,
   "metadata": {},
   "outputs": [
    {
     "name": "stdout",
     "output_type": "stream",
     "text": [
      "17:28:58.384 mem_agent run\n",
      "17:28:58.384   chat claude-3-haiku-20240307\n",
      "Okay, laten we dat even terugvinden:\n",
      "\n",
      "Uit de eerdere berekeningen blijkt:\n",
      "\n",
      "- Het bedrag exclusief BTW voor product X was: €100\n",
      "- Het BTW bedrag was: €21\n",
      "- De korting die je kreeg was: 15% op het bedrag inclusief BTW (€121)\n",
      "\n",
      "Dus de BTW van het product X was €21 en je kreeg 15% korting op het bedrag inclusief BTW.\n"
     ]
    }
   ],
   "source": [
    "mem_agent = Agent(\n",
    "    model=model,\n",
    "    output_type=str,\n",
    "    system_prompt=(\n",
    "        \"je bent een agent die op alle vragen een verstandig antwoord geeft\"\n",
    "    ),\n",
    ")\n",
    "\n",
    "result = mem_agent.run_sync(\n",
    "    \"wat was ook alweer het btw bedrag van het eerder gekochte product X en hoeveel korting kreeg ik. Zoek dit uit de conversatie hiervoor.\",\n",
    "    message_history=result2.all_messages(),\n",
    ")\n",
    "print(result.output)"
   ]
  }
 ],
 "metadata": {
  "kernelspec": {
   "display_name": ".venv",
   "language": "python",
   "name": "python3"
  },
  "language_info": {
   "codemirror_mode": {
    "name": "ipython",
    "version": 3
   },
   "file_extension": ".py",
   "mimetype": "text/x-python",
   "name": "python",
   "nbconvert_exporter": "python",
   "pygments_lexer": "ipython3",
   "version": "3.11.12"
  }
 },
 "nbformat": 4,
 "nbformat_minor": 2
}
