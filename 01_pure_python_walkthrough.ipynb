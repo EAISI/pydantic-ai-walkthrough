{
 "cells": [
  {
   "cell_type": "markdown",
   "metadata": {},
   "source": [
    "# Pure Python Walkthrough\n"
   ]
  },
  {
   "cell_type": "markdown",
   "metadata": {},
   "source": [
    "Setup the environment"
   ]
  },
  {
   "cell_type": "code",
   "execution_count": 1,
   "metadata": {},
   "outputs": [
    {
     "data": {
      "text/plain": [
       "<function logfire._internal.instrument.instrument.<locals>.decorator(func: 'Callable[P, R]') -> 'Callable[P, R]'>"
      ]
     },
     "execution_count": 1,
     "metadata": {},
     "output_type": "execute_result"
    },
    {
     "name": "stderr",
     "output_type": "stream",
     "text": [
      "\u001b[1mLogfire\u001b[0m project URL: \u001b]8;id=436660;https://logfire-eu.pydantic.dev/elbrink/claude-test\u001b\\\u001b[4;36mhttps://logfire-eu.pydantic.dev/elbrink/claude-test\u001b[0m\u001b]8;;\u001b\\\n"
     ]
    }
   ],
   "source": [
    "import dotenv\n",
    "import os\n",
    "import logfire\n",
    "\n",
    "import tool_functions as tf\n",
    "\n",
    "import nest_asyncio\n",
    "\n",
    "nest_asyncio.apply()\n",
    "\n",
    "dotenv.load_dotenv()\n",
    "\n",
    "api_key = os.getenv(\"ANTHROPIC_API_KEY\")\n",
    "model = os.getenv(\"DEFAULT_MODEL\")\n",
    "logfire_token = os.getenv(\"LOGFIRE_TOKEN\")\n",
    "\n",
    "\n",
    "# configure logfire\n",
    "logfire.configure(token=logfire_token)\n",
    "\n",
    "# 2. Instrumenteer LangChain (automatisch loggen van chains, LLM calls, tools, etc.)\n",
    "logfire.instrument()"
   ]
  },
  {
   "cell_type": "markdown",
   "metadata": {},
   "source": [
    "1 Definieer een basis agent"
   ]
  },
  {
   "cell_type": "code",
   "execution_count": 2,
   "metadata": {},
   "outputs": [],
   "source": [
    "dotenv.load_dotenv()\n",
    "\n",
    "api_key = os.getenv(\"ANTHROPIC_API_KEY\")\n",
    "model = os.getenv(\"DEFAULT_MODEL\")\n",
    "\n",
    "import json\n",
    "from anthropic import Anthropic\n",
    "from typing import Dict, List, Optional, Callable, Any\n",
    "\n",
    "\n",
    "class LLMAgent:\n",
    "    def __init__(self, name: str, system_prompt: str = \"\"):\n",
    "        \"\"\"\n",
    "        Initialiseer de LLM-agent.\n",
    "\n",
    "        Args:\n",
    "            name: Naam van de agent\n",
    "            system_prompt: Systeeminstructies voor de agent\n",
    "        \"\"\"\n",
    "        self.client = Anthropic(api_key=api_key)\n",
    "        self.model = model\n",
    "        self.name = name\n",
    "        self.system_prompt = system_prompt\n",
    "\n",
    "    def execute_tool(self, tool_name: str, **kwargs) -> str:\n",
    "        \"\"\"\n",
    "        Voer een tool uit met de gegeven parameters.\n",
    "        \"\"\"\n",
    "        if tool_name in self.tools:\n",
    "            try:\n",
    "                result = self.tools[tool_name][\"function\"](**kwargs)\n",
    "                return f\"Tool '{tool_name}' executed successfully. Result: {result}\"\n",
    "            except Exception as e:\n",
    "                return f\"Error executing tool '{tool_name}': {str(e)}\"\n",
    "        return f\"Tool '{tool_name}' not found.\"\n",
    "\n",
    "    @logfire.instrument()\n",
    "    def run(self, user_input: str) -> str:\n",
    "        \"\"\"\n",
    "        Verwerk gebruikersinvoer en genereer een reactie.\n",
    "        \"\"\"\n",
    "        response = self.client.messages.create(\n",
    "            model=self.model,\n",
    "            max_tokens=1000,\n",
    "            system=self.system_prompt,\n",
    "            messages=[{\"role\": \"user\", \"content\": user_input}],\n",
    "        )\n",
    "\n",
    "        # Extract the response text\n",
    "        response_text = (\n",
    "            response.content[0].text if hasattr(response, \"content\") else response\n",
    "        )\n",
    "        # Log the response to Logfire\n",
    "        logfire.info(\n",
    "            \"Agent response generated\",\n",
    "            agent_name=self.name,\n",
    "            user_input=user_input,\n",
    "            response=response_text,\n",
    "            model=self.model,\n",
    "            response_length=len(response_text),\n",
    "        )\n",
    "\n",
    "        return response\n",
    "\n",
    "\n",
    "basic_agent = LLMAgent(\n",
    "    name=\"basic_agent\",\n",
    "    system_prompt=\"je bent een agent die op alle vragen een verstandig antwoord geeft\",\n",
    ")"
   ]
  },
  {
   "cell_type": "markdown",
   "metadata": {},
   "source": [
    "Stel een vraag aan de agent"
   ]
  },
  {
   "cell_type": "code",
   "execution_count": 3,
   "metadata": {},
   "outputs": [
    {
     "name": "stdout",
     "output_type": "stream",
     "text": [
      "17:16:22.531 Calling __main__.LLMAgent.run\n",
      "17:16:25.575   Agent response generated\n",
      "Een agent is een computerprogramma of systeem dat autonoom handelt om een bepaald doel te bereiken. De belangrijkste kenmerken van een agent zijn:\n",
      "\n",
      "1. Autonomie: Een agent kan zelfstandig beslissingen nemen en acties ondernemen zonder constante menselijke sturing.\n",
      "\n",
      "2. Waarneming: Een agent neemt informatie waar uit zijn omgeving, zoals input van sensoren of data, en gebruikt deze informatie om beslissingen te nemen.\n",
      "\n",
      "3. Doelgerichtheid: Een agent heeft een doel of set van doelen die hij probeert te bereiken door middel van zijn acties.\n",
      "\n",
      "4. Flexibiliteit: Een agent kan zich aanpassen aan veranderende omstandigheden en nieuwe situaties om zijn doelen te bereiken.\n",
      "\n",
      "5. Intelligentie: Een agent gebruikt cognitieve vaardigheden zoals redeneren, leren en probleemoplossing om efficiënt te handelen.\n",
      "\n",
      "Agenten kunnen in veel verschillende domeinen worden toegepast, zoals robotica, games, verkeersmanagement, e-commerce en medische toepassingen. Het is een belangrijk concept in de kunstmatige intelligentie.\n"
     ]
    }
   ],
   "source": [
    "# Run the agent\n",
    "result = basic_agent.run(\"geef een defintie van een agent\")\n",
    "\n",
    "\n",
    "print(result.content[0].text)"
   ]
  },
  {
   "cell_type": "markdown",
   "metadata": {},
   "source": [
    "Definieer tools voor de agent"
   ]
  },
  {
   "cell_type": "code",
   "execution_count": 4,
   "metadata": {},
   "outputs": [],
   "source": [
    "# Anthropic Tool Definitions (voor Pure Python)\n",
    "ANTHROPIC_TOOLS = [\n",
    "    {\n",
    "        \"name\": \"calculate_btw\",\n",
    "        \"description\": \"Bereken BTW (belasting toegevoegde waarde) over een bedrag. Standaard BTW tarief is 21%.\",\n",
    "        \"input_schema\": {\n",
    "            \"type\": \"object\",\n",
    "            \"properties\": {\n",
    "                \"bedrag\": {\"type\": \"number\", \"description\": \"Het bedrag exclusief BTW\"},\n",
    "                \"btw_percentage\": {\n",
    "                    \"type\": \"number\",\n",
    "                    \"description\": \"BTW percentage (standaard 21%)\",\n",
    "                    \"default\": 21.0,\n",
    "                },\n",
    "            },\n",
    "            \"required\": [\"bedrag\"],\n",
    "        },\n",
    "    },\n",
    "    {\n",
    "        \"name\": \"calculate_discount\",\n",
    "        \"description\": \"Bereken korting over een bedrag.\",\n",
    "        \"input_schema\": {\n",
    "            \"type\": \"object\",\n",
    "            \"properties\": {\n",
    "                \"bedrag\": {\n",
    "                    \"type\": \"number\",\n",
    "                    \"description\": \"Het oorspronkelijke bedrag\",\n",
    "                },\n",
    "                \"korting_percentage\": {\n",
    "                    \"type\": \"number\",\n",
    "                    \"description\": \"Korting percentage\",\n",
    "                },\n",
    "            },\n",
    "            \"required\": [\"bedrag\", \"korting_percentage\"],\n",
    "        },\n",
    "    },\n",
    "    {\n",
    "        \"name\": \"get_inwoners_gemeente\",\n",
    "        \"description\": \"Haal inwonersaantallen op van Nederlandse gemeenten via CBS API. Kan specifieke gemeente opzoeken of top 10 grootste gemeenten tonen.\",\n",
    "        \"input_schema\": {\n",
    "            \"type\": \"object\",\n",
    "            \"properties\": {\n",
    "                \"gemeente_naam\": {\n",
    "                    \"type\": \"string\",\n",
    "                    \"description\": \"Naam van de gemeente (optioneel). Laat leeg voor top 10 grootste gemeenten.\",\n",
    "                },\n",
    "                \"jaar\": {\n",
    "                    \"type\": \"string\",\n",
    "                    \"description\": \"Jaar voor de data (standaard 2023)\",\n",
    "                    \"default\": \"2023\",\n",
    "                },\n",
    "            },\n",
    "            \"required\": [],\n",
    "        },\n",
    "    },\n",
    "]\n",
    "\n",
    "# Tool function mapping\n",
    "TOOL_FUNCTIONS = {\n",
    "    \"calculate_btw\": tf.calculate_btw,\n",
    "    \"calculate_discount\": tf.calculate_discount,\n",
    "    \"get_inwoners_gemeente\": tf.get_inwoners_gemeente,\n",
    "}"
   ]
  },
  {
   "cell_type": "code",
   "execution_count": 5,
   "metadata": {},
   "outputs": [],
   "source": [
    "class ToolAgent(LLMAgent):\n",
    "    def __init__(self, name: str, system_prompt: str = \"\"):\n",
    "        super().__init__(name, system_prompt)\n",
    "        self.tools = ANTHROPIC_TOOLS\n",
    "\n",
    "    @logfire.instrument()\n",
    "    def run(self, user_input: str) -> str:\n",
    "\n",
    "        response = self.client.messages.create(\n",
    "            model=self.model,\n",
    "            max_tokens=1000,\n",
    "            tools=self.tools,\n",
    "            messages=[{\"role\": \"user\", \"content\": user_input}],\n",
    "        )\n",
    "        # Extract the response text\n",
    "        response_text = (\n",
    "            response.content[0].text if hasattr(response, \"content\") else response\n",
    "        )\n",
    "        # Log the response to Logfire\n",
    "        logfire.info(\n",
    "            \"Agent response generated\",\n",
    "            agent_name=self.name,\n",
    "            user_input=user_input,\n",
    "            response=response_text,\n",
    "            model=self.model,\n",
    "            response_length=len(response_text),\n",
    "        )\n",
    "\n",
    "        # Check if Claude wants to use tools\n",
    "        if response.stop_reason == \"tool_use\":\n",
    "            tool_results = []\n",
    "\n",
    "            for content in response.content:\n",
    "                if content.type == \"tool_use\":\n",
    "                    tool_name = content.name\n",
    "                    tool_input = content.input\n",
    "                    tool_id = content.id\n",
    "\n",
    "                    print(\n",
    "                        f\"🔧 Claude gebruikt tool: {tool_name} met input: {tool_input}\"\n",
    "                    )\n",
    "\n",
    "                    # Execute the tool\n",
    "                    if tool_name in TOOL_FUNCTIONS:\n",
    "                        result = TOOL_FUNCTIONS[tool_name](**tool_input)\n",
    "                        tool_results.append(\n",
    "                            {\n",
    "                                \"type\": \"tool_result\",\n",
    "                                \"tool_use_id\": tool_id,\n",
    "                                \"content\": json.dumps(result),\n",
    "                            }\n",
    "                        )\n",
    "                    else:\n",
    "                        print(f\"Tool {tool_name} not found\")\n",
    "\n",
    "            # Get final response with tool results\n",
    "            final_response = self.client.messages.create(\n",
    "                model=self.model,\n",
    "                max_tokens=1000,\n",
    "                tools=self.tools,\n",
    "                messages=[\n",
    "                    {\"role\": \"user\", \"content\": user_input},\n",
    "                    {\"role\": \"assistant\", \"content\": response.content},\n",
    "                    {\"role\": \"user\", \"content\": tool_results},\n",
    "                ],\n",
    "            )\n",
    "            # Log the final response to Logfire\n",
    "            logfire.info(\n",
    "                \"Agent response generated\",\n",
    "                agent_name=self.name,\n",
    "                user_input=user_input,\n",
    "                response=final_response,\n",
    "            )\n",
    "            return final_response\n",
    "        else:\n",
    "            return response\n",
    "\n",
    "\n",
    "tool_agent = ToolAgent(\n",
    "    name=\"tool_agent\",\n",
    "    system_prompt=\"je bent een agent die op alle vragen een verstandig antwoord geeft\",\n",
    ")"
   ]
  },
  {
   "cell_type": "markdown",
   "metadata": {},
   "source": [
    "Test een aantal tool calls"
   ]
  },
  {
   "cell_type": "code",
   "execution_count": 6,
   "metadata": {},
   "outputs": [
    {
     "name": "stdout",
     "output_type": "stream",
     "text": [
      "17:16:50.159 Calling __main__.ToolAgent.run\n",
      "17:16:51.592   Agent response generated\n",
      "🔧 Claude gebruikt tool: calculate_btw met input: {'bedrag': 100}\n",
      "17:16:52.974   Agent response generated\n",
      "Het bedrag exclusief BTW is €100. Met het standaard BTW-tarief van 21% komt daar €21 BTW bij, zodat het totale bedrag inclusief BTW €121 is.\n"
     ]
    }
   ],
   "source": [
    "result2 = tool_agent.run(\n",
    "    \"ik koop een product X voor 100 euro exclusief BTW, bereken de BTW. Ik krijg van de leverancier ook nog 15% korting op het bedrag inclusief BTW. Geef een overzicht wat ik moet betalen en hoe dat is samengesteld\"\n",
    ")\n",
    "\n",
    "print(result2.content[0].text)"
   ]
  },
  {
   "cell_type": "code",
   "execution_count": 7,
   "metadata": {},
   "outputs": [
    {
     "name": "stdout",
     "output_type": "stream",
     "text": [
      "17:16:54.232 Calling __main__.ToolAgent.run\n",
      "17:16:55.437   Agent response generated\n",
      "🔧 Claude gebruikt tool: get_inwoners_gemeente met input: {'jaar': '2025'}\n",
      "17:16:58.080   Agent response generated\n",
      "De top-7 gemeenten in Nederland met het grootste aantal inwoners in 2025 zijn:\n",
      "1. Amsterdam (935.793)\n",
      "2. Rotterdam (672.330) \n",
      "3. 's-Gravenhage (568.419)\n",
      "4. Utrecht (376.435)\n",
      "5. Eindhoven (249.054)\n",
      "6. Groningen (244.807)\n",
      "7. Tilburg (230.359)\n",
      "\n",
      "Het aantal inwoners van Groningen in 2025 wordt geschat op 244.807.\n"
     ]
    }
   ],
   "source": [
    "result = tool_agent.run(\n",
    "    \"Geef een overzicht van de top-7 gemeenten in Nederland met het grootste aantal inwoners in 2025. Laat ook het aantal inwoners van Groningen zien.\"\n",
    ")\n",
    "\n",
    "print(result.content[0].text)"
   ]
  },
  {
   "cell_type": "code",
   "execution_count": 8,
   "metadata": {},
   "outputs": [
    {
     "name": "stdout",
     "output_type": "stream",
     "text": [
      "17:17:07.506 Calling __main__.ToolAgent.run\n",
      "17:17:09.692   Agent response generated\n",
      "🔧 Claude gebruikt tool: get_inwoners_gemeente met input: {'gemeente_naam': 'Eindhoven', 'jaar': '2023'}\n",
      "17:17:12.042   Agent response generated\n",
      "Volgens de data van het CBS had Eindhoven in 2023 243.730 inwoners.\n",
      "\n",
      "Als alle inwoners in 2025 15 euro betalen, dan zou dat het volgende opleveren:\n"
     ]
    }
   ],
   "source": [
    "result = tool_agent.run(\n",
    "    \"Als alle inwoners uit Eindhoven in 2025 15 euro betalen, hoeveel krijg ik dan.\",\n",
    ")\n",
    "print(result.content[0].text)"
   ]
  },
  {
   "cell_type": "markdown",
   "metadata": {},
   "source": [
    "Voeg geheugen toe aan de agent"
   ]
  },
  {
   "cell_type": "code",
   "execution_count": 9,
   "metadata": {},
   "outputs": [],
   "source": [
    "class MemAgent(ToolAgent):\n",
    "    def __init__(self, *args, **kwargs):\n",
    "        super().__init__(*args, **kwargs)\n",
    "        self.memory = []\n",
    "\n",
    "    def add_memory(self, role, memory):\n",
    "        self.memory.append({\"role\": role, \"content\": memory})\n",
    "\n",
    "    def get_memory(self):\n",
    "        return self.memory\n",
    "\n",
    "    def run(self, user_input):\n",
    "        self.memory.append(user_input)\n",
    "        input = \"\"\n",
    "        for message in self.memory:\n",
    "            input += f\"role': 'user': 'content': {message}\\n\"\n",
    "\n",
    "        return super().run(input)\n",
    "\n",
    "\n",
    "mem_agent = MemAgent(\n",
    "    name=\"mem_agent\",\n",
    "    system_prompt=\"je bent een agent die op alle vragen een verstandig antwoord geeft\",\n",
    ")"
   ]
  },
  {
   "cell_type": "code",
   "execution_count": 10,
   "metadata": {},
   "outputs": [
    {
     "name": "stdout",
     "output_type": "stream",
     "text": [
      "17:17:19.478 Calling __main__.ToolAgent.run\n",
      "17:17:23.415   Agent response generated\n",
      "🔧 Claude gebruikt tool: calculate_btw met input: {'bedrag': 100}\n",
      "17:17:25.645   Agent response generated\n",
      "Het product kost 100 euro exclusief BTW. Bij een BTW percentage van 21% is de BTW 21 euro. Het totaalbedrag inclusief BTW is dan 121 euro.\n"
     ]
    }
   ],
   "source": [
    "result = mem_agent.run(\n",
    "    \"ik koop een product X voor 100 euro exclusief BTW, bereken de BTW. Ik krijg van de leverancier ook nog 15% korting op het bedrag inclusief BTW. Geef een overzicht wat ik moet betalen en hoe dat is samengesteld\"\n",
    ")\n",
    "\n",
    "print(result.content[0].text)"
   ]
  },
  {
   "cell_type": "code",
   "execution_count": 12,
   "metadata": {},
   "outputs": [
    {
     "name": "stdout",
     "output_type": "stream",
     "text": [
      "17:18:07.066 Calling __main__.ToolAgent.run\n",
      "17:18:08.520   Agent response generated\n",
      "🔧 Claude gebruikt tool: calculate_btw met input: {'bedrag': 100}\n",
      "17:18:09.762   Agent response generated\n",
      "Het BTW bedrag voor het product X van 100 euro exclusief BTW is 21 euro.\n"
     ]
    }
   ],
   "source": [
    "result = mem_agent.run(\n",
    "    \"wat was ook alweer het btw bedrag van het eerder gekochte product X en hoeveel korting kreeg ik. Zoek dit uit de conversatie hiervoor.\"\n",
    ")\n",
    "\n",
    "print(result.content[0].text)"
   ]
  }
 ],
 "metadata": {
  "kernelspec": {
   "display_name": ".venv",
   "language": "python",
   "name": "python3"
  },
  "language_info": {
   "codemirror_mode": {
    "name": "ipython",
    "version": 3
   },
   "file_extension": ".py",
   "mimetype": "text/x-python",
   "name": "python",
   "nbconvert_exporter": "python",
   "pygments_lexer": "ipython3",
   "version": "3.11.12"
  }
 },
 "nbformat": 4,
 "nbformat_minor": 2
}
